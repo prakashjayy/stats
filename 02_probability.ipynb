{
 "cells": [
  {
   "cell_type": "markdown",
   "id": "132c35ab",
   "metadata": {},
   "source": [
    "## Introduction\n",
    "Probability is defined as the chance of occurence of a particular outcome in a random process, when the random process is repeated infinite times. \n",
    "\n",
    "For example,\n",
    "- throwing a die: Possible outcomes 1, 2, 3, 4, 5, 6\n",
    "- flip a coin: Possible outcomes: H, T\n",
    "\n",
    "What is the probability of getting 1 after throwing a die?  \n",
    "A) 1/6\n",
    "\n",
    "but if we roll the die once, the outcome can be one of {1, 2, 3, 4, 5, 6} and usually doesn't need to be 1. In that case the probability might be anything between {0-1}, but if we repeat this experiment multiple times then slowly the number of 1's out of the number of rolls will be eqivalent to ~1/6. This is called **Law of Large numbers**."
   ]
  },
  {
   "cell_type": "code",
   "execution_count": 1,
   "id": "1f439aef",
   "metadata": {},
   "outputs": [],
   "source": [
    "import numpy as np \n",
    "from tqdm import tqdm\n",
    "\n",
    "import matplotlib.pyplot as plt \n",
    "%matplotlib inline\n",
    "\n",
    "plt.style.use(\"bmh\")"
   ]
  },
  {
   "cell_type": "markdown",
   "id": "29cf7827",
   "metadata": {},
   "source": [
    "- select the trails. we are taking 10k different trails."
   ]
  },
  {
   "cell_type": "code",
   "execution_count": 2,
   "id": "4222715e",
   "metadata": {},
   "outputs": [],
   "source": [
    "trails = np.arange(1, 100000)\n",
    "trails = trails[np.random.choice(len(trails), size=10000, replace=False)]\n",
    "trails.sort()"
   ]
  },
  {
   "cell_type": "markdown",
   "id": "de96d9f8",
   "metadata": {},
   "source": [
    "- perform each trail and calculate the probability"
   ]
  },
  {
   "cell_type": "code",
   "execution_count": 13,
   "id": "19b8b91f",
   "metadata": {},
   "outputs": [
    {
     "name": "stderr",
     "output_type": "stream",
     "text": [
      "100%|██████████████████████████████████████████████████████████████████████████████████████████████████| 10000/10000 [00:05<00:00, 1689.98it/s]\n"
     ]
    }
   ],
   "source": [
    "probs = []\n",
    "for t in tqdm(trails):\n",
    "    x = np.random.choice([1, 2, 3, 4, 5, 6], size=t)\n",
    "    numerator = (x==1).sum()\n",
    "    denom = len(x)\n",
    "    prob = float(numerator)/denom\n",
    "    probs.append(prob)"
   ]
  },
  {
   "cell_type": "markdown",
   "id": "1e7b71ef",
   "metadata": {},
   "source": [
    "- visualize the probability vs trails graph"
   ]
  },
  {
   "cell_type": "code",
   "execution_count": 16,
   "id": "fc8fd44c",
   "metadata": {},
   "outputs": [
    {
     "data": {
      "image/png": "[encoded data removed]",
      "text/plain": [
       "<Figure size 576x252 with 1 Axes>"
      ]
     },
     "metadata": {
      "needs_background": "light"
     },
     "output_type": "display_data"
    }
   ],
   "source": [
    "plt.figure(figsize=(8, 3.5))\n",
    "plt.plot(trails, probs)\n",
    "plt.xlabel(\"trails\")\n",
    "plt.ylabel(\"prob\")\n",
    "plt.title(\"Probability based on number of trails\")\n",
    "plt.show()"
   ]
  },
  {
   "cell_type": "markdown",
   "id": "df166621",
   "metadata": {},
   "source": [
    "## TODO\n",
    "- Disjoint or mutually exclusive\n",
    "- when not disjoint \n",
    "- P(A or B) = P(A) + P(B) - P(A and B)\n",
    "- independent events\n",
    "- conditional probabilities - **P(A/B) = P(A and B) / P(B)**\n",
    "- marginal and joint probabilities "
   ]
  },
  {
   "cell_type": "markdown",
   "id": "b3294170",
   "metadata": {},
   "source": [
    "## Bayes theorm\n",
    "TODO"
   ]
  },
  {
   "cell_type": "code",
   "execution_count": null,
   "id": "5be3d7b8",
   "metadata": {},
   "outputs": [],
   "source": []
  }
 ],
 "metadata": {
  "kernelspec": {
   "display_name": "stats-FlZOjs_K-py3.8",
   "language": "python",
   "name": "stats-flzojs_k-py3.8"
  },
  "language_info": {
   "codemirror_mode": {
    "name": "ipython",
    "version": 3
   },
   "file_extension": ".py",
   "mimetype": "text/x-python",
   "name": "python",
   "nbconvert_exporter": "python",
   "pygments_lexer": "ipython3",
   "version": "3.9.6"
  }
 },
 "nbformat": 4,
 "nbformat_minor": 5
}
