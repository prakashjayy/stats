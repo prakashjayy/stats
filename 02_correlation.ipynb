{
 "cells": [
  {
   "cell_type": "code",
   "execution_count": 1,
   "id": "947b0eee",
   "metadata": {},
   "outputs": [],
   "source": [
    "import numpy as np \n",
    "import pandas as pd \n",
    "\n",
    "import matplotlib.pyplot as plt\n",
    "%matplotlib inline\n",
    "\n",
    "plt.style.use(\"bmh\")"
   ]
  },
  {
   "cell_type": "markdown",
   "id": "c19d14fd",
   "metadata": {},
   "source": [
    "## Correlation\n",
    "- It is a measure of similarity between two different entities. \n",
    "- It's value ranges from -1 to 1. with +1 being positivly correlated and -1 being negatively correlated. \n",
    "- It can be calculated between any two different entities which have different metrics. \n",
    "\n",
    "\n",
    "## Formula:\n",
    "### Mean\n",
    "$$\n",
    "\\bar{X} = \\frac{\\sum_{i=1}^{n} x_{i}}{n}\n",
    "$$\n",
    "\n",
    "\n",
    "### correlation\n",
    "$$\n",
    "r = \\frac{1} {n} \\sum_{i=1}^{n} \\frac{x_{i}-\\bar{x}} {\\sigma_{x}} \\frac{y_{i}-\\bar{y}} {\\sigma_{y}}\n",
    "$$"
   ]
  },
  {
   "cell_type": "code",
   "execution_count": 2,
   "id": "ef41e3c4",
   "metadata": {},
   "outputs": [
    {
     "name": "stdout",
     "output_type": "stream",
     "text": [
      "(15, 3)\n"
     ]
    },
    {
     "data": {
      "text/html": [
       "<div>\n",
       "<style scoped>\n",
       "    .dataframe tbody tr th:only-of-type {\n",
       "        vertical-align: middle;\n",
       "    }\n",
       "\n",
       "    .dataframe tbody tr th {\n",
       "        vertical-align: top;\n",
       "    }\n",
       "\n",
       "    .dataframe thead th {\n",
       "        text-align: right;\n",
       "    }\n",
       "</style>\n",
       "<table border=\"1\" class=\"dataframe\">\n",
       "  <thead>\n",
       "    <tr style=\"text-align: right;\">\n",
       "      <th></th>\n",
       "      <th>Names</th>\n",
       "      <th>height</th>\n",
       "      <th>weight</th>\n",
       "    </tr>\n",
       "  </thead>\n",
       "  <tbody>\n",
       "    <tr>\n",
       "      <th>0</th>\n",
       "      <td>Nick</td>\n",
       "      <td>74</td>\n",
       "      <td>193</td>\n",
       "    </tr>\n",
       "    <tr>\n",
       "      <th>1</th>\n",
       "      <td>Elina</td>\n",
       "      <td>66</td>\n",
       "      <td>133</td>\n",
       "    </tr>\n",
       "    <tr>\n",
       "      <th>2</th>\n",
       "      <td>Dinah</td>\n",
       "      <td>68</td>\n",
       "      <td>155</td>\n",
       "    </tr>\n",
       "    <tr>\n",
       "      <th>3</th>\n",
       "      <td>Rebica</td>\n",
       "      <td>69</td>\n",
       "      <td>147</td>\n",
       "    </tr>\n",
       "    <tr>\n",
       "      <th>4</th>\n",
       "      <td>Ben</td>\n",
       "      <td>73</td>\n",
       "      <td>175</td>\n",
       "    </tr>\n",
       "  </tbody>\n",
       "</table>\n",
       "</div>"
      ],
      "text/plain": [
       "    Names  height  weight\n",
       "0    Nick      74     193\n",
       "1   Elina      66     133\n",
       "2   Dinah      68     155\n",
       "3  Rebica      69     147\n",
       "4     Ben      73     175"
      ]
     },
     "execution_count": 2,
     "metadata": {},
     "output_type": "execute_result"
    }
   ],
   "source": [
    "entries = {\"Names\": [\"Nick\", \"Elina\", \"Dinah\", \"Rebica\", \"Ben\", \"Charu\", \"Sahar\", \"Maggie\", \"Faisal\", \"Ted\", \"Narciso\", \"Katrina\", \"CJ\", 'Sophia', \"Will\"], \n",
    "           \"height\": [74, 66, 68, 69, 73, 70, 60, 63, 67, 70, 70, 70, 75, 62, 74], \n",
    "           \"weight\": [193, 133, 155, 147, 175, 128, 100, 128, 170, 182, 178, 118, 227, 115, 211]}\n",
    "df = pd.DataFrame(entries)\n",
    "print(df.shape)\n",
    "df.head()"
   ]
  },
  {
   "cell_type": "markdown",
   "id": "e73a7faf",
   "metadata": {},
   "source": [
    "### plot height vs weight scatter plot.\n",
    "- since weight is increasing wrt to height, it is positively correlated"
   ]
  },
  {
   "cell_type": "code",
   "execution_count": 3,
   "id": "71e04e51",
   "metadata": {},
   "outputs": [
    {
     "data": {
      "image/png": "[encoded data removed]",
      "text/plain": [
       "<Figure size 576x252 with 1 Axes>"
      ]
     },
     "metadata": {
      "needs_background": "light"
     },
     "output_type": "display_data"
    }
   ],
   "source": [
    "plt.figure(figsize=(8, 3.5))\n",
    "plt.scatter(df[\"height\"], df[\"weight\"])\n",
    "plt.xlabel(\"height\")\n",
    "plt.ylabel(\"weight\")\n",
    "plt.title(\"height vs weight plot\")\n",
    "plt.show()"
   ]
  },
  {
   "cell_type": "code",
   "execution_count": 4,
   "id": "17750f50",
   "metadata": {},
   "outputs": [
    {
     "data": {
      "text/plain": [
       "15"
      ]
     },
     "execution_count": 4,
     "metadata": {},
     "output_type": "execute_result"
    }
   ],
   "source": [
    "n = df.shape[0]\n",
    "n"
   ]
  },
  {
   "cell_type": "code",
   "execution_count": 5,
   "id": "1e145f48",
   "metadata": {},
   "outputs": [
    {
     "name": "stdout",
     "output_type": "stream",
     "text": [
      "weight_mean:  157.33333333333334 \n",
      " weight_sd:  36.11586293521941 \n",
      " height_mean:  68.73333333333333 \n",
      " height_std:  4.358389100981641\n"
     ]
    }
   ],
   "source": [
    "height_mean, height_sd = df[\"height\"].mean(), df[\"height\"].std(ddof=0)\n",
    "weight_mean, weight_sd = df[\"weight\"].mean(), df[\"weight\"].std(ddof=0)\n",
    "print(\"weight_mean: \", weight_mean, \"\\n\", \n",
    "      \"weight_sd: \", weight_sd, \"\\n\",\n",
    "      \"height_mean: \", height_mean, \"\\n\",\n",
    "      \"height_std: \", height_sd)"
   ]
  },
  {
   "cell_type": "code",
   "execution_count": 6,
   "id": "fe47fd49",
   "metadata": {},
   "outputs": [
    {
     "data": {
      "text/html": [
       "<div>\n",
       "<style scoped>\n",
       "    .dataframe tbody tr th:only-of-type {\n",
       "        vertical-align: middle;\n",
       "    }\n",
       "\n",
       "    .dataframe tbody tr th {\n",
       "        vertical-align: top;\n",
       "    }\n",
       "\n",
       "    .dataframe thead th {\n",
       "        text-align: right;\n",
       "    }\n",
       "</style>\n",
       "<table border=\"1\" class=\"dataframe\">\n",
       "  <thead>\n",
       "    <tr style=\"text-align: right;\">\n",
       "      <th></th>\n",
       "      <th>Names</th>\n",
       "      <th>height</th>\n",
       "      <th>weight</th>\n",
       "      <th>height_in_su</th>\n",
       "      <th>weight_in_su</th>\n",
       "    </tr>\n",
       "  </thead>\n",
       "  <tbody>\n",
       "    <tr>\n",
       "      <th>0</th>\n",
       "      <td>Nick</td>\n",
       "      <td>74</td>\n",
       "      <td>193</td>\n",
       "      <td>1.208398</td>\n",
       "      <td>0.987562</td>\n",
       "    </tr>\n",
       "    <tr>\n",
       "      <th>1</th>\n",
       "      <td>Elina</td>\n",
       "      <td>66</td>\n",
       "      <td>133</td>\n",
       "      <td>-0.627143</td>\n",
       "      <td>-0.673757</td>\n",
       "    </tr>\n",
       "    <tr>\n",
       "      <th>2</th>\n",
       "      <td>Dinah</td>\n",
       "      <td>68</td>\n",
       "      <td>155</td>\n",
       "      <td>-0.168258</td>\n",
       "      <td>-0.064607</td>\n",
       "    </tr>\n",
       "    <tr>\n",
       "      <th>3</th>\n",
       "      <td>Rebica</td>\n",
       "      <td>69</td>\n",
       "      <td>147</td>\n",
       "      <td>0.061185</td>\n",
       "      <td>-0.286116</td>\n",
       "    </tr>\n",
       "    <tr>\n",
       "      <th>4</th>\n",
       "      <td>Ben</td>\n",
       "      <td>73</td>\n",
       "      <td>175</td>\n",
       "      <td>0.978955</td>\n",
       "      <td>0.489166</td>\n",
       "    </tr>\n",
       "  </tbody>\n",
       "</table>\n",
       "</div>"
      ],
      "text/plain": [
       "    Names  height  weight  height_in_su  weight_in_su\n",
       "0    Nick      74     193      1.208398      0.987562\n",
       "1   Elina      66     133     -0.627143     -0.673757\n",
       "2   Dinah      68     155     -0.168258     -0.064607\n",
       "3  Rebica      69     147      0.061185     -0.286116\n",
       "4     Ben      73     175      0.978955      0.489166"
      ]
     },
     "execution_count": 6,
     "metadata": {},
     "output_type": "execute_result"
    }
   ],
   "source": [
    "df[\"height_in_su\"] = df[\"height\"].apply(lambda x: (x-height_mean)/height_sd)\n",
    "df[\"weight_in_su\"] = df[\"weight\"].apply(lambda x: (x-weight_mean)/weight_sd)\n",
    "df.head()"
   ]
  },
  {
   "cell_type": "code",
   "execution_count": 7,
   "id": "6f1b58bf",
   "metadata": {},
   "outputs": [
    {
     "data": {
      "text/html": [
       "<div>\n",
       "<style scoped>\n",
       "    .dataframe tbody tr th:only-of-type {\n",
       "        vertical-align: middle;\n",
       "    }\n",
       "\n",
       "    .dataframe tbody tr th {\n",
       "        vertical-align: top;\n",
       "    }\n",
       "\n",
       "    .dataframe thead th {\n",
       "        text-align: right;\n",
       "    }\n",
       "</style>\n",
       "<table border=\"1\" class=\"dataframe\">\n",
       "  <thead>\n",
       "    <tr style=\"text-align: right;\">\n",
       "      <th></th>\n",
       "      <th>Names</th>\n",
       "      <th>height</th>\n",
       "      <th>weight</th>\n",
       "      <th>height_in_su</th>\n",
       "      <th>weight_in_su</th>\n",
       "      <th>multiply</th>\n",
       "    </tr>\n",
       "  </thead>\n",
       "  <tbody>\n",
       "    <tr>\n",
       "      <th>0</th>\n",
       "      <td>Nick</td>\n",
       "      <td>74</td>\n",
       "      <td>193</td>\n",
       "      <td>1.208398</td>\n",
       "      <td>0.987562</td>\n",
       "      <td>1.193368</td>\n",
       "    </tr>\n",
       "    <tr>\n",
       "      <th>1</th>\n",
       "      <td>Elina</td>\n",
       "      <td>66</td>\n",
       "      <td>133</td>\n",
       "      <td>-0.627143</td>\n",
       "      <td>-0.673757</td>\n",
       "      <td>0.422542</td>\n",
       "    </tr>\n",
       "    <tr>\n",
       "      <th>2</th>\n",
       "      <td>Dinah</td>\n",
       "      <td>68</td>\n",
       "      <td>155</td>\n",
       "      <td>-0.168258</td>\n",
       "      <td>-0.064607</td>\n",
       "      <td>0.010871</td>\n",
       "    </tr>\n",
       "    <tr>\n",
       "      <th>3</th>\n",
       "      <td>Rebica</td>\n",
       "      <td>69</td>\n",
       "      <td>147</td>\n",
       "      <td>0.061185</td>\n",
       "      <td>-0.286116</td>\n",
       "      <td>-0.017506</td>\n",
       "    </tr>\n",
       "    <tr>\n",
       "      <th>4</th>\n",
       "      <td>Ben</td>\n",
       "      <td>73</td>\n",
       "      <td>175</td>\n",
       "      <td>0.978955</td>\n",
       "      <td>0.489166</td>\n",
       "      <td>0.478872</td>\n",
       "    </tr>\n",
       "  </tbody>\n",
       "</table>\n",
       "</div>"
      ],
      "text/plain": [
       "    Names  height  weight  height_in_su  weight_in_su  multiply\n",
       "0    Nick      74     193      1.208398      0.987562  1.193368\n",
       "1   Elina      66     133     -0.627143     -0.673757  0.422542\n",
       "2   Dinah      68     155     -0.168258     -0.064607  0.010871\n",
       "3  Rebica      69     147      0.061185     -0.286116 -0.017506\n",
       "4     Ben      73     175      0.978955      0.489166  0.478872"
      ]
     },
     "execution_count": 7,
     "metadata": {},
     "output_type": "execute_result"
    }
   ],
   "source": [
    "df[\"multiply\"] = df[\"height_in_su\"]*df[\"weight_in_su\"]\n",
    "df.head()"
   ]
  },
  {
   "cell_type": "markdown",
   "id": "1e5f4288",
   "metadata": {},
   "source": [
    "- Final `correlation` value"
   ]
  },
  {
   "cell_type": "code",
   "execution_count": 8,
   "id": "6bc38ced",
   "metadata": {},
   "outputs": [
    {
     "data": {
      "text/plain": [
       "0.8260257545280693"
      ]
     },
     "execution_count": 8,
     "metadata": {},
     "output_type": "execute_result"
    }
   ],
   "source": [
    "df[\"multiply\"].sum()/n"
   ]
  },
  {
   "cell_type": "markdown",
   "id": "0c2b8071",
   "metadata": {},
   "source": [
    "## Easy way to do this in Python"
   ]
  },
  {
   "cell_type": "code",
   "execution_count": 10,
   "id": "1653e98a",
   "metadata": {},
   "outputs": [
    {
     "data": {
      "text/html": [
       "<div>\n",
       "<style scoped>\n",
       "    .dataframe tbody tr th:only-of-type {\n",
       "        vertical-align: middle;\n",
       "    }\n",
       "\n",
       "    .dataframe tbody tr th {\n",
       "        vertical-align: top;\n",
       "    }\n",
       "\n",
       "    .dataframe thead th {\n",
       "        text-align: right;\n",
       "    }\n",
       "</style>\n",
       "<table border=\"1\" class=\"dataframe\">\n",
       "  <thead>\n",
       "    <tr style=\"text-align: right;\">\n",
       "      <th></th>\n",
       "      <th>weight</th>\n",
       "      <th>height</th>\n",
       "    </tr>\n",
       "  </thead>\n",
       "  <tbody>\n",
       "    <tr>\n",
       "      <th>weight</th>\n",
       "      <td>1.000000</td>\n",
       "      <td>0.826026</td>\n",
       "    </tr>\n",
       "    <tr>\n",
       "      <th>height</th>\n",
       "      <td>0.826026</td>\n",
       "      <td>1.000000</td>\n",
       "    </tr>\n",
       "  </tbody>\n",
       "</table>\n",
       "</div>"
      ],
      "text/plain": [
       "          weight    height\n",
       "weight  1.000000  0.826026\n",
       "height  0.826026  1.000000"
      ]
     },
     "execution_count": 10,
     "metadata": {},
     "output_type": "execute_result"
    }
   ],
   "source": [
    "df[[\"weight\", \"height\"]].corr()"
   ]
  },
  {
   "cell_type": "code",
   "execution_count": null,
   "id": "bac5d6db",
   "metadata": {},
   "outputs": [],
   "source": []
  }
 ],
 "metadata": {
  "kernelspec": {
   "display_name": "stats-FlZOjs_K-py3.8",
   "language": "python",
   "name": "stats-flzojs_k-py3.8"
  },
  "language_info": {
   "codemirror_mode": {
    "name": "ipython",
    "version": 3
   },
   "file_extension": ".py",
   "mimetype": "text/x-python",
   "name": "python",
   "nbconvert_exporter": "python",
   "pygments_lexer": "ipython3",
   "version": "3.9.6"
  }
 },
 "nbformat": 4,
 "nbformat_minor": 5
}
