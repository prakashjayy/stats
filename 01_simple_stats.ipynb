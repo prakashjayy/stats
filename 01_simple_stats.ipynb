{
 "cells": [
  {
   "cell_type": "markdown",
   "id": "ed051c9d",
   "metadata": {},
   "source": [
    "## Introduction\n",
    "We use statistics on a daily basis and yet we don't realize how important it is. \n",
    "- watching cricket, we look at stats (bowling avg and bating avg) of a player. we check the probability of success of a team playing first compared to playing 2nd. Like this cricket is filled with statistics. \n",
    "- In finance, we look at stock market, the time-series (just the data) doesn't give any reliable information but when we aggregate and calculate 1-3-5 year return of a particular stock or a portfolio of stocks (smallcase or mutual funds) we can make informed decisions about our investments.\n",
    "\n",
    "Like these we relay on statistics heavily. Some more examples include.\n",
    "- Does smoking causes cancer?\n",
    "- Which Netflix movie do i like?\n",
    "- what is the route to take from A-B location?\n",
    "- Does excercising regularly and staying fit reduces the chances of cancer?\n",
    "- Does driving fast increases the chance of accidents?"
   ]
  },
  {
   "cell_type": "markdown",
   "id": "5aa1d503",
   "metadata": {},
   "source": [
    "## Descriptive stats \n",
    "- These include avg, median, mode etc \n",
    "- Descriptive stats exists to simplify, which always implies some loss of naunce or detail.\n",
    "- It is a reliable way to measure stuff but not a perfect system.\n",
    "- Use statistics in your problem statements with care. Different people interpret different stats in a different way. Also don't conclude stuff using just statistics. Often `correlation is not causation.` "
   ]
  },
  {
   "cell_type": "markdown",
   "id": "cfb9173e",
   "metadata": {},
   "source": [
    "## How statistics can lie?\n",
    "- Scenerio 1: Country A has 5 people each earning an average income of \\$20,000.\n",
    "- Scenerio 2: Country B has 10 people each earning an aveage income of \\$40,000.\n",
    "\n",
    "Which country do u prefer to work? mearly looking at the average might make u choose Scenerio 2 but lets look at the individuals income\n",
    "\n",
    "#### Country A\n",
    "- 20000, 30000, 10000, 15000, 25000\n",
    "\n",
    "#### Country B\n",
    "- 300000, 20000, 10000, 10000, 10000, 10000, 10000, 10000, 10000, 10000. \n",
    "\n",
    "Country B has an outlier whose annual income is very high, so the avearge is heavily influenced by him. If we remove him the average drops to ~ \\$11,111 which is far less compared to Country A. "
   ]
  },
  {
   "cell_type": "markdown",
   "id": "d0123ff5",
   "metadata": {},
   "source": [
    "## Summary statistics "
   ]
  },
  {
   "cell_type": "markdown",
   "id": "2dcdc615",
   "metadata": {},
   "source": [
    "### Mean\n",
    "- The average of all the values in the data. Suppose we are measuring height of 10 people. the mean of height of 10 people is (sum of each people height) by total people. \n",
    "\n",
    "### Median\n",
    "- sort the height of the people in ascending or descending order and the central (odd) or average of the two central people (even) is the median of the data. \n",
    "- Usually not influenced by outliers and is a good measure to understand the underlying data.\n",
    "\n",
    "### Mode \n",
    "- Most occuring height in the dataset. \n",
    "- Another measure of central stat\n",
    "\n",
    "### Percentile\n",
    "- These are heavily used to SAT and CAT scores. Suppose a person got 80/100 marks in Maths, it is relatively difficult to tell how well he performed in the test. When converted to percentile, say we got 99%, we know that he performed better than 99% of the students. \n",
    "\n",
    "### Standard Deviation\n",
    "- SD or variance is used to measure dispesion in the data.\n",
    "- SD is used when your data is normally distributed. Normal distribution is a kind of distribution which is heavily seen when trying to plot any kind of data like, heights or weights of people, scores of student in a particular test etc. \n",
    "- 68.2% of the data will be within 1 SD. 95.4% of the data will be within 2 SD, 97.5% of the data will be with in 2.5 SD. "
   ]
  },
  {
   "cell_type": "markdown",
   "id": "76d048b3",
   "metadata": {},
   "source": [
    "## Normal distribution\n",
    "\n",
    "<img src=\"images/normal_distribution.png\" width=\"250\"/>"
   ]
  }
 ],
 "metadata": {
  "kernelspec": {
   "display_name": "stats-FlZOjs_K-py3.8",
   "language": "python",
   "name": "stats-flzojs_k-py3.8"
  },
  "language_info": {
   "codemirror_mode": {
    "name": "ipython",
    "version": 3
   },
   "file_extension": ".py",
   "mimetype": "text/x-python",
   "name": "python",
   "nbconvert_exporter": "python",
   "pygments_lexer": "ipython3",
   "version": "3.9.6"
  }
 },
 "nbformat": 4,
 "nbformat_minor": 5
}
